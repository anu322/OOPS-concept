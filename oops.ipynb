{
 "cells": [
  {
   "cell_type": "markdown",
   "metadata": {},
   "source": [
    "## OOP in python"
   ]
  },
  {
   "cell_type": "code",
   "execution_count": 1,
   "metadata": {},
   "outputs": [],
   "source": [
    "## creating a class\n",
    "class person:\n",
    "    ## attributes means variables\n",
    "    name ='raju'\n",
    "    age= 20\n",
    "    address=\" amsterdam arena\"\n",
    "    grades=90 \n",
    "    \n",
    "    ##actions means functions\n",
    "    def talk(cls):\n",
    "        print(cls.name)\n",
    "        print(cls.age)\n",
    "        \n",
    "    def learn(cls):\n",
    "        print(cls.address)\n",
    "    def walk(cls):\n",
    "        print(cls.grades)"
   ]
  },
  {
   "cell_type": "code",
   "execution_count": 2,
   "metadata": {},
   "outputs": [],
   "source": [
    "p1=person()"
   ]
  },
  {
   "cell_type": "code",
   "execution_count": 3,
   "metadata": {},
   "outputs": [
    {
     "data": {
      "text/plain": [
       "__main__.person"
      ]
     },
     "execution_count": 3,
     "metadata": {},
     "output_type": "execute_result"
    }
   ],
   "source": [
    "type(p1)"
   ]
  },
  {
   "cell_type": "code",
   "execution_count": 4,
   "metadata": {},
   "outputs": [
    {
     "name": "stdout",
     "output_type": "stream",
     "text": [
      "raju\n",
      "20\n"
     ]
    }
   ],
   "source": [
    "p1.talk()"
   ]
  },
  {
   "cell_type": "code",
   "execution_count": 5,
   "metadata": {},
   "outputs": [
    {
     "name": "stdout",
     "output_type": "stream",
     "text": [
      " amsterdam arena\n"
     ]
    }
   ],
   "source": [
    "p1.learn()"
   ]
  },
  {
   "cell_type": "code",
   "execution_count": 6,
   "metadata": {},
   "outputs": [
    {
     "name": "stdout",
     "output_type": "stream",
     "text": [
      "90\n"
     ]
    }
   ],
   "source": [
    "p1.walk()"
   ]
  },
  {
   "cell_type": "code",
   "execution_count": 7,
   "metadata": {},
   "outputs": [
    {
     "name": "stdout",
     "output_type": "stream",
     "text": [
      "computer machine with core 5 generation\n"
     ]
    }
   ],
   "source": [
    "class computer:\n",
    "    \n",
    "    def config(self):\n",
    "    ## self is a object pass through a method and refers to com1 here\n",
    "        print(\"computer machine with core 5 generation\")\n",
    "        \n",
    "com1=computer()\n",
    "\n",
    "computer.config(com1)"
   ]
  },
  {
   "cell_type": "code",
   "execution_count": 8,
   "metadata": {},
   "outputs": [
    {
     "name": "stdout",
     "output_type": "stream",
     "text": [
      "2285202257568\n"
     ]
    }
   ],
   "source": [
    "class computer:\n",
    "    pass\n",
    "\n",
    "\n",
    "c = computer()\n",
    "\n",
    "print(id(c))   # c placed at this memory location(all obj are in heap memory)"
   ]
  },
  {
   "cell_type": "markdown",
   "metadata": {},
   "source": [
    "### class::--class basically a design of how to create a object.(a blueprint)"
   ]
  },
  {
   "cell_type": "code",
   "execution_count": 9,
   "metadata": {},
   "outputs": [
    {
     "name": "stdout",
     "output_type": "stream",
     "text": [
      "my name is anu\n",
      " anu\n"
     ]
    }
   ],
   "source": [
    "class computer:\n",
    "    \n",
    "    def __init__(self):\n",
    "        print(\"my name is anu\")\n",
    "        \n",
    "    def display(self):\n",
    "        print(\" anu\")\n",
    "\n",
    "        \n",
    "c1=computer()\n",
    "\n",
    "c1.display()\n",
    "\n",
    "     "
   ]
  },
  {
   "cell_type": "markdown",
   "metadata": {},
   "source": [
    "## encapsulation in python"
   ]
  },
  {
   "cell_type": "markdown",
   "metadata": {},
   "source": [
    "### encapulation is nothing but writing attributes and methods inside a class."
   ]
  },
  {
   "cell_type": "code",
   "execution_count": 10,
   "metadata": {},
   "outputs": [
    {
     "name": "stdout",
     "output_type": "stream",
     "text": [
      "anuradha tandon 26\n"
     ]
    }
   ],
   "source": [
    "class computer:\n",
    "    \n",
    "    def __init__(self,name,age):\n",
    "        self.name=name\n",
    "        self.age=age\n",
    "    \n",
    "    def display(self):\n",
    "        print(self.name,self.age)\n",
    "        \n",
    "c1=computer(\"anuradha tandon\",26)\n",
    "c1.display()\n",
    "\n",
    "\n",
    "        \n"
   ]
  },
  {
   "cell_type": "markdown",
   "metadata": {},
   "source": [
    "## namespace is an area where you create and store object / variables.\n",
    "### class namespace (class variables)\n",
    "### object / instance namespace"
   ]
  },
  {
   "cell_type": "code",
   "execution_count": 11,
   "metadata": {},
   "outputs": [
    {
     "name": "stdout",
     "output_type": "stream",
     "text": [
      "car specification are--- 8990 50 9\n"
     ]
    }
   ],
   "source": [
    "class car:\n",
    "    \n",
    "    wheel=6        # class/static variable\n",
    "    \n",
    "    def __init__(self):\n",
    "        self.engine=8990    ## instance variables\n",
    "        self.speed=50\n",
    "        \n",
    "    def disply(self):\n",
    "        print(\"car specification are---\",self.engine,self.speed,self.wheel)\n",
    "        \n",
    "c=car()\n",
    "car.wheel=9\n",
    "c.disply()\n",
    "        "
   ]
  },
  {
   "cell_type": "markdown",
   "metadata": {},
   "source": [
    "## class methods"
   ]
  },
  {
   "cell_type": "code",
   "execution_count": 12,
   "metadata": {},
   "outputs": [
    {
     "name": "stdout",
     "output_type": "stream",
     "text": [
      "89.5\n"
     ]
    }
   ],
   "source": [
    "class student:\n",
    "    \n",
    "    school=\" ct institute of jalandhar\"\n",
    "    \n",
    "    def __init__(self,m1,m2,m3,m4):\n",
    "        self.m1=m1\n",
    "        self.m2=m2\n",
    "        self.m3=m3\n",
    "        self.m4=m4\n",
    "        \n",
    "        \n",
    "    def display(self):           # this is a instance method coz we passing self here (object)\n",
    "        return (self.m1+self.m2+self.m3+self.m4)/4\n",
    "        \n",
    "        \n",
    "        \n",
    "s1=student(89,90,99,80)\n",
    "s2=student(90,78,87,98)\n",
    "print(s1.display())"
   ]
  },
  {
   "cell_type": "code",
   "execution_count": 13,
   "metadata": {},
   "outputs": [
    {
     "name": "stdout",
     "output_type": "stream",
     "text": [
      "89.5\n",
      "89\n"
     ]
    },
    {
     "data": {
      "text/plain": [
       "90"
      ]
     },
     "execution_count": 13,
     "metadata": {},
     "output_type": "execute_result"
    }
   ],
   "source": [
    "class student:\n",
    "    \n",
    "    school=\" ct institute of jalandhar\"\n",
    "    \n",
    "    def __init__(self,m1,m2,m3,m4):\n",
    "        self.m1=m1\n",
    "        self.m2=m2\n",
    "        self.m3=m3\n",
    "        self.m4=m4\n",
    "                 # this instance method itself has two types  \n",
    "                  # first one is accessor method ( for only fetching the value)\n",
    "                   # second one is mutator method ( for modify any value)\n",
    "        \n",
    "    def display(self):           \n",
    "        return (self.m1+self.m2+self.m3+self.m4)/4\n",
    "    \n",
    "    \n",
    "    def get_m1(self):        # method use for fetch the value\n",
    "        return (self.m1)\n",
    "        \n",
    "      \n",
    "    def set_m1(self,value):\n",
    "         self.m1=value\n",
    "        \n",
    "s1=student(89,90,99,80)\n",
    "s2=student(90,78,87,98)\n",
    "print(s1.display())\n",
    "print(s1.m1)     # simple way to fetch th value\n",
    "s2.get_m1()\n",
    "#s2.set_m1(67)"
   ]
  },
  {
   "cell_type": "code",
   "execution_count": 14,
   "metadata": {},
   "outputs": [
    {
     "name": "stdout",
     "output_type": "stream",
     "text": [
      "89.5\n",
      " ct institute of jalandhar\n",
      "this is a staticmethod \n"
     ]
    }
   ],
   "source": [
    "class student:\n",
    "    \n",
    "    school=\" ct institute of jalandhar\"\n",
    "    \n",
    "    def __init__(self,m1,m2,m3,m4):\n",
    "        self.m1=m1\n",
    "        self.m2=m2\n",
    "        self.m3=m3\n",
    "        self.m4=m4\n",
    "        \n",
    "        \n",
    "    def display(self):           # this is a instance method coz we passing self here (object)\n",
    "        return (self.m1+self.m2+self.m3+self.m4)/4\n",
    "    \n",
    "    \n",
    "    \n",
    "    \n",
    "    @classmethod                # special symbol called decorators coz we create class method\n",
    "    \n",
    "    def info(cls):                  # class method and should use cls keyword not something else\n",
    "        return cls.school\n",
    "    \n",
    "    \n",
    "    \n",
    "    @staticmethod\n",
    "    def extra():        # which is not concernd about classmethod nor with instance method is called static method\n",
    "        print(\"this is a staticmethod \")\n",
    "        \n",
    "        \n",
    "        \n",
    "s1=student(89,90,99,80)\n",
    "s2=student(90,78,87,98)\n",
    "\n",
    "print(s1.display())\n",
    "\n",
    "print(student.info())\n",
    "\n",
    "student.extra()"
   ]
  },
  {
   "cell_type": "markdown",
   "metadata": {},
   "source": [
    "## class inside a class"
   ]
  },
  {
   "cell_type": "code",
   "execution_count": 15,
   "metadata": {},
   "outputs": [
    {
     "name": "stdout",
     "output_type": "stream",
     "text": [
      "anuradha 14465\n",
      "HP\n",
      "2285202372032\n"
     ]
    }
   ],
   "source": [
    "class student:\n",
    "    \n",
    "    def __init__(self,name,rollno):\n",
    "        self.name=name\n",
    "        self.rollno=rollno\n",
    "        self.lap=self.laptop()\n",
    "        \n",
    "    def show(self):\n",
    "        print(self.name,self.rollno)\n",
    "        \n",
    "        \n",
    "    class laptop:            # class inside a class\n",
    "        \n",
    "        def __init__(self):\n",
    "            self.brand=\"HP\"\n",
    "            self.cpu=\"i5\"\n",
    "   # def show(self):\n",
    "       # print(self.brand,self.cpu)\n",
    "    \n",
    "    \n",
    "s1=student(\"anuradha\",14465)\n",
    "s1.show()\n",
    "\n",
    "\n",
    "print(s1.lap.brand)     # way to access the inside class\n",
    "\n",
    "lap1=s1.lap\n",
    "print(id(lap1))\n"
   ]
  },
  {
   "cell_type": "markdown",
   "metadata": {},
   "source": [
    "# inheritence class"
   ]
  },
  {
   "cell_type": "code",
   "execution_count": 16,
   "metadata": {},
   "outputs": [
    {
     "name": "stdout",
     "output_type": "stream",
     "text": [
      " working fea1\n",
      " working fea2\n",
      " working fea3\n"
     ]
    }
   ],
   "source": [
    "class A():\n",
    "    \n",
    "    def fea1(self):\n",
    "        print(\" working fea1\")\n",
    "        \n",
    "        \n",
    "class B(A):\n",
    "    def fea2(self):\n",
    "        print(\" working fea2\")\n",
    "                                      ## multilevel inheritence\n",
    "        \n",
    "        \n",
    "class C(B):\n",
    "     \n",
    "        def fea3(self):\n",
    "            print(\" working fea3\")\n",
    "            \n",
    "        def fea4(self):\n",
    "            print(\" working fea4\")\n",
    "        \n",
    "        \n",
    "a1=A()\n",
    "a1.fea1()\n",
    "\n",
    "b1=B()\n",
    "b1.fea2()\n",
    "\n",
    "c1=C()\n",
    "c1.fea3()\n",
    "\n"
   ]
  },
  {
   "cell_type": "code",
   "execution_count": 17,
   "metadata": {},
   "outputs": [
    {
     "name": "stdout",
     "output_type": "stream",
     "text": [
      " working fea1\n",
      " working fea2\n",
      " working fea4\n"
     ]
    }
   ],
   "source": [
    "class A():\n",
    "    \n",
    "    def fea1(self):\n",
    "        print(\" working fea1\")\n",
    "        \n",
    "        \n",
    "class B():\n",
    "    def fea2(self):\n",
    "        print(\" working fea2\")\n",
    "                                      \n",
    "        \n",
    "        \n",
    "class C(A,B):        ## MULTILEVEL INHERITENCE\n",
    "     \n",
    "        def fea3(self):\n",
    "            print(\" working fea3\")\n",
    "            \n",
    "        def fea4(self):\n",
    "            print(\" working fea4\")\n",
    "        \n",
    "        \n",
    "a1=A()\n",
    "a1.fea1()\n",
    "\n",
    "b1=B()\n",
    "b1.fea2()\n",
    "\n",
    "c1=C()\n",
    "c1.fea4()\n",
    "\n"
   ]
  },
  {
   "cell_type": "markdown",
   "metadata": {},
   "source": [
    "# constructor in inheritence and method resolution order(MRO)"
   ]
  },
  {
   "cell_type": "code",
   "execution_count": 18,
   "metadata": {},
   "outputs": [
    {
     "name": "stdout",
     "output_type": "stream",
     "text": [
      " in A init\n",
      " in B init\n"
     ]
    }
   ],
   "source": [
    "class A:\n",
    "    \n",
    "    def __init__(self):\n",
    "        print(\" in A init\")\n",
    "    \n",
    "    def feature1(self):\n",
    "        print(\" first one is working\")\n",
    "        \n",
    "    def feature2(self):\n",
    "        print(\" second one is working\")\n",
    "        \n",
    "        \n",
    "        \n",
    "class B(A):\n",
    "    \n",
    "    def __init__(self):\n",
    "        super().__init__()  ## it calls the __init__ of A class also\n",
    "        print(\" in B init\")\n",
    "    \n",
    "    def feature3(self):\n",
    "        print(\" third one is working\")\n",
    "        \n",
    "    def feature4(self):\n",
    "        print(\" fourth one is working\")\n",
    "        \n",
    "    def feature5(self):\n",
    "        print(\" fifth one is working\")\n",
    "        \n",
    "        \n",
    "        \n",
    "        \n",
    "a1=B()        # it is called a method which is __init__(by default constructor).\n",
    "               ## if you dont define it is there somewhere"
   ]
  },
  {
   "cell_type": "code",
   "execution_count": 19,
   "metadata": {},
   "outputs": [
    {
     "name": "stdout",
     "output_type": "stream",
     "text": [
      " in A init\n",
      " in c init\n"
     ]
    }
   ],
   "source": [
    "class A:\n",
    "    \n",
    "    def __init__(self):\n",
    "        print(\" in A init\")\n",
    "    \n",
    "    def feature1(self):\n",
    "        print(\" first one is working\")\n",
    "        \n",
    "    def feature2(self):\n",
    "        print(\" second one is working\")\n",
    "        \n",
    "        \n",
    "        \n",
    "class B():\n",
    "    \n",
    "    def __init__(self):\n",
    "        \n",
    "        print(\" in B init\")\n",
    "    \n",
    "    def feature3(self):\n",
    "        print(\" third one is working\")\n",
    "        \n",
    "    def feature4(self):\n",
    "        print(\" fourth one is working\")\n",
    "        \n",
    "    def feature5(self):\n",
    "        print(\" fifth one is working\")\n",
    "        \n",
    "        \n",
    "class C(A,B):\n",
    "    \n",
    "    def __init__(self):\n",
    "        super().__init__()   # it calls init of A class only not the init of B class here for this we have the concept of\n",
    "        print(\" in c init\")       ## (MRO) WORKS AS LEFT TO RIGHT\n",
    "        \n",
    "    def feature6(self):\n",
    "        print(\" sixth one is working\")\n",
    "        \n",
    "\n",
    "c1=C()"
   ]
  },
  {
   "cell_type": "markdown",
   "metadata": {},
   "source": [
    "## POLYMORPHISM means many forms ( of objects)it uses in duck typing,operator overloading, method overloading,method overriding."
   ]
  },
  {
   "cell_type": "markdown",
   "metadata": {},
   "source": [
    "# Duck typing in python"
   ]
  },
  {
   "cell_type": "markdown",
   "metadata": {},
   "source": [
    "### if an objects walk like a duck and talk like a duck then it considered as a duck.\n",
    "### python giving importance for behaviour than original type."
   ]
  },
  {
   "cell_type": "code",
   "execution_count": 20,
   "metadata": {},
   "outputs": [
    {
     "name": "stdout",
     "output_type": "stream",
     "text": [
      " the duck is talk like quack quack\n",
      "None\n"
     ]
    }
   ],
   "source": [
    "class Dog:\n",
    "    \n",
    "    def talk(self):\n",
    "        print(\" the duck is talk like quack quack\")\n",
    "        \n",
    "class Cat:\n",
    "    \n",
    "    def talk(self):\n",
    "        print(\" the dog is talk like bark\")\n",
    "    \n",
    "    \n",
    "def quack(object):\n",
    "    \n",
    "    if isinstance(object,Dog):\n",
    "          object.talk()\n",
    "    else:\n",
    "        print(\" object should be of duck type\")\n",
    "        \n",
    "m=Cat()\n",
    "d=Dog()\n",
    "\n",
    "print(quack(d))"
   ]
  },
  {
   "cell_type": "markdown",
   "metadata": {},
   "source": [
    "## operator overloading"
   ]
  },
  {
   "cell_type": "code",
   "execution_count": 21,
   "metadata": {},
   "outputs": [
    {
     "name": "stdout",
     "output_type": "stream",
     "text": [
      "5\n"
     ]
    }
   ],
   "source": [
    "a=2\n",
    "b=3\n",
    "print(int.__add__(a,b))"
   ]
  },
  {
   "cell_type": "code",
   "execution_count": 22,
   "metadata": {},
   "outputs": [
    {
     "name": "stdout",
     "output_type": "stream",
     "text": [
      "Anu Tandon\n"
     ]
    }
   ],
   "source": [
    "a=\"Anu \"\n",
    "b=\"Tandon\"\n",
    "print(str.__add__(a,b))"
   ]
  },
  {
   "cell_type": "code",
   "execution_count": 23,
   "metadata": {},
   "outputs": [
    {
     "name": "stdout",
     "output_type": "stream",
     "text": [
      " s2 wins\n",
      "183\n",
      "189\n"
     ]
    }
   ],
   "source": [
    "class Student:\n",
    "    \n",
    "    def __init__(self,m1,m2):\n",
    "        self.m1=m1\n",
    "        self.m2=m2\n",
    "     \n",
    "    def __add__(self,other):\n",
    "        m1= self.m1+other.m1\n",
    "        m2=self.m2+other.m2\n",
    "        s3=Student(m1,m2)\n",
    "        return s3\n",
    "    \n",
    "    def __gt__(self,other):\n",
    "        r1=self.m1+self.m2\n",
    "        r2=other.m1+other.m2\n",
    "        if r1>r2:\n",
    "            return True\n",
    "        else:\n",
    "            return False\n",
    "    \n",
    "s1=Student(89,90)\n",
    "s2=Student(94,99)\n",
    "\n",
    "s3=s1+s2\n",
    "if s1>s2:\n",
    "    print(\"s1 wins\")\n",
    "else:\n",
    "    print(\" s2 wins\")\n",
    "    \n",
    "print(s3.m1)\n",
    "print(s3.m2)\n",
    "\n",
    "\n",
    "    "
   ]
  },
  {
   "cell_type": "code",
   "execution_count": 24,
   "metadata": {},
   "outputs": [
    {
     "name": "stdout",
     "output_type": "stream",
     "text": [
      " s1 is less than s2\n",
      "<__main__.Company object at 0x0000021410AE9D68>\n",
      " s2 is greater\n",
      " not same\n"
     ]
    }
   ],
   "source": [
    "class Company:\n",
    "    \n",
    "    def __init__(self,s1,s2):\n",
    "        self.s1=s1\n",
    "        self.s2=s2\n",
    "        \n",
    "        \n",
    "    def __ne__(self,other):\n",
    "        if self.s1!=other.s2:\n",
    "            return \" s1 is less than s2\"\n",
    "        else:\n",
    "            return \" same\"\n",
    "        \n",
    "    def __gt__(self,other):\n",
    "        if self.s1>other.s1:\n",
    "            return \" s1 is greater\"\n",
    "        else:\n",
    "            return \" s2 is greater\"\n",
    "\n",
    "    def __eq__(self,other):\n",
    "        if self.s2==other.s2:\n",
    "            return \" both same\"\n",
    "        else:\n",
    "            return \" not same\"\n",
    "        \n",
    "        \n",
    "\n",
    "\n",
    "\n",
    "c1=Company(600,500)\n",
    "c2=Company(800,1000)\n",
    "print(c1!=c2)\n",
    "print(c2)\n",
    "c3=Company(1,6)\n",
    "c4=Company(5,2)\n",
    "print(c3>c4)\n",
    "c5=Company(3,3)\n",
    "c6=Company(7,7)\n",
    "print(c5==c6)\n"
   ]
  },
  {
   "cell_type": "markdown",
   "metadata": {},
   "source": [
    "## method overloading and method overriding"
   ]
  },
  {
   "cell_type": "code",
   "execution_count": 25,
   "metadata": {},
   "outputs": [
    {
     "name": "stdout",
     "output_type": "stream",
     "text": [
      "1910\n"
     ]
    }
   ],
   "source": [
    "class Student:\n",
    "    def __init__(self,m1,m2):\n",
    "        self.m1=m1\n",
    "        self.m2=m2\n",
    "        \n",
    "\n",
    "    def sum(self,a=None,b=None,c=None):\n",
    "        s=0\n",
    "                                                    # method overloading\n",
    "        if a!=None and b!=None and c!=None:\n",
    "            s=a+b+c\n",
    "        elif a!=None and b!=None:\n",
    "            s=a+b\n",
    "        else:\n",
    "            s=a\n",
    "        \n",
    "        return s\n",
    "    \n",
    "    \n",
    "    \n",
    "    \n",
    "    \n",
    "s1=Student(10,9)\n",
    "print(s1.sum(10,1000,900))"
   ]
  },
  {
   "cell_type": "code",
   "execution_count": 26,
   "metadata": {},
   "outputs": [
    {
     "name": "stdout",
     "output_type": "stream",
     "text": [
      " show method of class B\n"
     ]
    }
   ],
   "source": [
    "class A:\n",
    "    \n",
    "    def show(self):\n",
    "        print(\" show method of class A\")\n",
    "        \n",
    "class B(A):                  # show method of class b overrride the show method of class a\n",
    "     \n",
    "        def show(self):\n",
    "            print(\" show method of class B\")\n",
    "            \n",
    "            \n",
    "b1=B()\n",
    "b1.show()"
   ]
  },
  {
   "cell_type": "markdown",
   "metadata": {},
   "source": [
    "## iterator in python"
   ]
  },
  {
   "cell_type": "code",
   "execution_count": 27,
   "metadata": {},
   "outputs": [
    {
     "name": "stdout",
     "output_type": "stream",
     "text": [
      "1\n",
      "2\n",
      "3\n",
      "4\n",
      "5\n"
     ]
    }
   ],
   "source": [
    "nums=[1,2,3,4,5]\n",
    "\n",
    "it=iter(nums)\n",
    "\n",
    "print(it.__next__())\n",
    "print(it.__next__())  # pick only one value at a time\n",
    "print(it.__next__())\n",
    "print(it.__next__())\n",
    "print(it.__next__())"
   ]
  },
  {
   "cell_type": "code",
   "execution_count": 28,
   "metadata": {},
   "outputs": [
    {
     "name": "stdout",
     "output_type": "stream",
     "text": [
      "1\n",
      "2\n",
      "3\n",
      "4\n",
      "5\n",
      "6\n",
      "7\n",
      "8\n",
      "9\n",
      "10\n"
     ]
    }
   ],
   "source": [
    "class Top:\n",
    "    \n",
    "    def __init__(self):\n",
    "        self.num=1\n",
    "        \n",
    "    def __iter__(self):\n",
    "        return self\n",
    "    \n",
    "    def __next__(self):\n",
    "        if self.num<=10:\n",
    "            val=self.num\n",
    "            self.num += 1\n",
    "            return val\n",
    "        else:\n",
    "            raise StopIteration\n",
    "    \n",
    "values=Top()\n",
    "\n",
    "for i in values:\n",
    "    print(i)\n",
    "    "
   ]
  },
  {
   "cell_type": "markdown",
   "metadata": {},
   "source": [
    "## Exception Handling"
   ]
  },
  {
   "cell_type": "code",
   "execution_count": 29,
   "metadata": {},
   "outputs": [
    {
     "name": "stdout",
     "output_type": "stream",
     "text": [
      "enter a10\n",
      "enter b2\n",
      "resource open \n",
      "5.0\n",
      "enter value of k p\n",
      " invalid value of k  invalid literal for int() with base 10: 'p'\n",
      "resource closed\n"
     ]
    }
   ],
   "source": [
    "\n",
    "a=int(input(\"enter a\"))\n",
    "b=int(input(\"enter b\"))\n",
    "\n",
    "\n",
    "try:\n",
    "    print(\"resource open \")\n",
    "    \n",
    "    print(a/b)\n",
    "    k=int(input(\"enter value of k \"))\n",
    "    print(k)\n",
    "    \n",
    "except ValueError as e:\n",
    "    print(\" invalid value of k \",e)\n",
    "    \n",
    "except Exception as e:\n",
    "    print(\"invalid data\",e)\n",
    "    \n",
    "    \n",
    "finally:\n",
    "    print(\"resource closed\")"
   ]
  },
  {
   "cell_type": "markdown",
   "metadata": {},
   "source": [
    "## Multithreading"
   ]
  },
  {
   "cell_type": "code",
   "execution_count": 32,
   "metadata": {},
   "outputs": [
    {
     "name": "stdout",
     "output_type": "stream",
     "text": [
      "hello anu\n",
      "hi anu\n",
      "hello anu\n",
      "hi anu\n",
      "hello anu\n",
      "hi anu\n",
      "hello anu\n",
      "hi anu\n",
      "hello anu\n",
      "hi anu\n",
      "bye bye\n"
     ]
    }
   ],
   "source": [
    "from threading import *\n",
    "from time import sleep\n",
    "\n",
    "class Hello(Thread):\n",
    "    \n",
    "    def run(self):\n",
    "        for i in range(5):\n",
    "            print(\"hello anu\")\n",
    "            sleep(1)\n",
    "            \n",
    "class Hi(Thread):\n",
    "    \n",
    "    def run(self):\n",
    "        for i in range(5):\n",
    "            print(\"hi anu\")\n",
    "            sleep(1)\n",
    "\n",
    "            \n",
    "            \n",
    "t1=Hello()\n",
    "t2=Hi()\n",
    "t1.start()\n",
    "sleep(0.2)\n",
    "t2.start()\n",
    "t1.join()\n",
    "t2.join()\n",
    "print(\"bye bye\")"
   ]
  },
  {
   "cell_type": "code",
   "execution_count": null,
   "metadata": {},
   "outputs": [],
   "source": []
  },
  {
   "cell_type": "code",
   "execution_count": null,
   "metadata": {},
   "outputs": [],
   "source": []
  }
 ],
 "metadata": {
  "kernelspec": {
   "display_name": "Python 3",
   "language": "python",
   "name": "python3"
  },
  "language_info": {
   "codemirror_mode": {
    "name": "ipython",
    "version": 3
   },
   "file_extension": ".py",
   "mimetype": "text/x-python",
   "name": "python",
   "nbconvert_exporter": "python",
   "pygments_lexer": "ipython3",
   "version": "3.6.8"
  }
 },
 "nbformat": 4,
 "nbformat_minor": 2
}
